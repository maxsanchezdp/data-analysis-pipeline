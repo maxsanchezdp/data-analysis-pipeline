{
 "cells": [
  {
   "cell_type": "code",
   "execution_count": 138,
   "metadata": {},
   "outputs": [],
   "source": [
    "import pandas as pd\n",
    "import numpy as np\n",
    "import plotly.plotly as py\n",
    "import plotly.graph_objs as go\n"
   ]
  },
  {
   "cell_type": "code",
   "execution_count": 46,
   "metadata": {},
   "outputs": [],
   "source": [
    "#GET DATA:\n",
    "PATH=\"./Input/country_population.csv\"\n",
    "def get_data(path):\n",
    "    df=pd.read_csv(path,\",\")\n",
    "    return df"
   ]
  },
  {
   "cell_type": "code",
   "execution_count": 121,
   "metadata": {},
   "outputs": [],
   "source": [
    "#CLEAN DATA:\n",
    "def clean_data(df):\n",
    "    col_drop=[\"Indicator Name\",\"Indicator Code\"]\n",
    "    count_drop=[\n",
    "        \"Arab World\",\n",
    "        \"Central Europe and the Baltics\",\n",
    "        \"Caribbean small states\",\n",
    "        \"East Asia & Pacific (excluding high income)\",\n",
    "        \"Early-demographic dividend\",\n",
    "        'East Asia & Pacific',\n",
    "        'Europe & Central Asia (excluding high income)',\n",
    "        'Europe & Central Asia',\n",
    "        'Euro area',\n",
    "        'European Union',\n",
    "        'Fragile and conflict affected situations',\n",
    "        'High income',\n",
    "        'Heavily indebted poor countries (HIPC)',\n",
    "        'IBRD only',\n",
    "        'IDA & IBRD total',\n",
    "        'IDA total',\n",
    "        'IDA blend',\n",
    "        'IDA only',\n",
    "        'Not classified',\n",
    "        'Latin America & Caribbean (excluding high income)',\n",
    "        'Latin America & Caribbean',\n",
    "        'Least developed countries: UN classification',\n",
    "        'Low income',\n",
    "        'Lower middle income',\n",
    "        'Low & middle income',\n",
    "        'Late-demographic dividend',\n",
    "        'Middle East & North Africa',\n",
    "        'Middle income',\n",
    "        'Middle East & North Africa (excluding high income)',\n",
    "        'North America',\n",
    "        'OECD members',\n",
    "        'Other small states',\n",
    "        'Pre-demographic dividend',\n",
    "        'West Bank and Gaza',\n",
    "        'Pacific island small states',\n",
    "        'Post-demographic dividend',\n",
    "        'South Asia',\n",
    "        'Sub-Saharan Africa (excluding high income)',\n",
    "        'Sub-Saharan Africa',\n",
    "        'Small states'\n",
    "        'East Asia & Pacific (IDA & IBRD countries)',\n",
    "        'Europe & Central Asia (IDA & IBRD countries)',\n",
    "        'Latin America & the Caribbean (IDA & IBRD countries)',\n",
    "        'Middle East & North Africa (IDA & IBRD countries)',\n",
    "        'South Asia (IDA & IBRD)',\n",
    "        'Sub-Saharan Africa (IDA & IBRD countries)',\n",
    "        'Upper middle income']\n",
    "    cdf=df.copy()\n",
    "    cdf=cdf.drop(col_drop, axis=1)\n",
    "    bad_countries=cdf[cdf[\"Country Name\"].isin(count_drop)].index\n",
    "    cdf=cdf.drop(bad_countries,axis=0,)\n",
    "    cdf=cdf.fillna(0)\n",
    "    return cdf"
   ]
  },
  {
   "cell_type": "code",
   "execution_count": 98,
   "metadata": {},
   "outputs": [],
   "source": [
    "#FILTER DATA:\n",
    "def filter_data(df,country=\"World\",desde=2006,hasta=2016):\n",
    "    lista_años_st=list(map(str,list(range(desde,hasta+1))))\n",
    "    lista_total=[\"Country Name\",\"Country Code\"]+lista_años_st\n",
    "    fdf=df[df[\"Country Name\"].str.contains(country.title())][lista_total]\n",
    "    \n",
    "    return fdf\n"
   ]
  },
  {
   "cell_type": "code",
   "execution_count": 137,
   "metadata": {},
   "outputs": [
    {
     "data": {
      "text/html": [
       "<div>\n",
       "<style scoped>\n",
       "    .dataframe tbody tr th:only-of-type {\n",
       "        vertical-align: middle;\n",
       "    }\n",
       "\n",
       "    .dataframe tbody tr th {\n",
       "        vertical-align: top;\n",
       "    }\n",
       "\n",
       "    .dataframe thead th {\n",
       "        text-align: right;\n",
       "    }\n",
       "</style>\n",
       "<table border=\"1\" class=\"dataframe\">\n",
       "  <thead>\n",
       "    <tr style=\"text-align: right;\">\n",
       "      <th></th>\n",
       "      <th>Country Name</th>\n",
       "      <th>Country Code</th>\n",
       "      <th>2006</th>\n",
       "      <th>2007</th>\n",
       "      <th>2008</th>\n",
       "      <th>2009</th>\n",
       "      <th>2010</th>\n",
       "      <th>2011</th>\n",
       "      <th>2012</th>\n",
       "      <th>2013</th>\n",
       "      <th>2014</th>\n",
       "      <th>2015</th>\n",
       "      <th>2016</th>\n",
       "    </tr>\n",
       "  </thead>\n",
       "  <tbody>\n",
       "    <tr>\n",
       "      <th>68</th>\n",
       "      <td>Spain</td>\n",
       "      <td>ESP</td>\n",
       "      <td>44397319.0</td>\n",
       "      <td>45226803.0</td>\n",
       "      <td>45954106.0</td>\n",
       "      <td>46362946.0</td>\n",
       "      <td>46576897.0</td>\n",
       "      <td>46742697.0</td>\n",
       "      <td>46773055.0</td>\n",
       "      <td>46620045.0</td>\n",
       "      <td>46480882.0</td>\n",
       "      <td>46444832.0</td>\n",
       "      <td>46484533.0</td>\n",
       "    </tr>\n",
       "  </tbody>\n",
       "</table>\n",
       "</div>"
      ],
      "text/plain": [
       "   Country Name Country Code        2006        2007        2008        2009  \\\n",
       "68        Spain          ESP  44397319.0  45226803.0  45954106.0  46362946.0   \n",
       "\n",
       "          2010        2011        2012        2013        2014        2015  \\\n",
       "68  46576897.0  46742697.0  46773055.0  46620045.0  46480882.0  46444832.0   \n",
       "\n",
       "          2016  \n",
       "68  46484533.0  "
      ]
     },
     "execution_count": 137,
     "metadata": {},
     "output_type": "execute_result"
    }
   ],
   "source": [
    "df=get_data(PATH)\n",
    "cdf=clean_data(df)\n",
    "fdf=filter_data(cdf,\"spain\")\n",
    "\n",
    "\n"
   ]
  },
  {
   "cell_type": "code",
   "execution_count": null,
   "metadata": {},
   "outputs": [],
   "source": []
  }
 ],
 "metadata": {
  "kernelspec": {
   "display_name": "Python 3",
   "language": "python",
   "name": "python3"
  },
  "language_info": {
   "codemirror_mode": {
    "name": "ipython",
    "version": 3
   },
   "file_extension": ".py",
   "mimetype": "text/x-python",
   "name": "python",
   "nbconvert_exporter": "python",
   "pygments_lexer": "ipython3",
   "version": "3.6.8"
  }
 },
 "nbformat": 4,
 "nbformat_minor": 2
}
