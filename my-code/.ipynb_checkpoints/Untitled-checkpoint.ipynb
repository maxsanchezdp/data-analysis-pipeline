{
 "cells": [
  {
   "cell_type": "code",
   "execution_count": 47,
   "metadata": {},
   "outputs": [],
   "source": [
    "import pandas as pd\n",
    "import numpy as np\n",
    "import matplotlib.pyplot as plt\n",
    "import requests as req"
   ]
  },
  {
   "cell_type": "code",
   "execution_count": 2,
   "metadata": {},
   "outputs": [],
   "source": [
    "#GET DATA:\n",
    "PATH=\"./Input/country_population.csv\"\n",
    "def get_data(path):\n",
    "    df=pd.read_csv(path,\",\")\n",
    "    return df"
   ]
  },
  {
   "cell_type": "code",
   "execution_count": 3,
   "metadata": {},
   "outputs": [],
   "source": [
    "#CLEAN DATA:\n",
    "def clean_data(df):\n",
    "    col_drop=[\"Indicator Name\",\"Indicator Code\"]\n",
    "    count_drop=[\n",
    "        \"Arab World\",\n",
    "        \"Central Europe and the Baltics\",\n",
    "        \"Caribbean small states\",\n",
    "        \"East Asia & Pacific (excluding high income)\",\n",
    "        \"Early-demographic dividend\",\n",
    "        'East Asia & Pacific',\n",
    "        'Europe & Central Asia (excluding high income)',\n",
    "        'Europe & Central Asia',\n",
    "        'Euro area',\n",
    "        'European Union',\n",
    "        'Fragile and conflict affected situations',\n",
    "        'High income',\n",
    "        'Heavily indebted poor countries (HIPC)',\n",
    "        'IBRD only',\n",
    "        'IDA & IBRD total',\n",
    "        'IDA total',\n",
    "        'IDA blend',\n",
    "        'IDA only',\n",
    "        'Not classified',\n",
    "        'Latin America & Caribbean (excluding high income)',\n",
    "        'Latin America & Caribbean',\n",
    "        'Least developed countries: UN classification',\n",
    "        'Low income',\n",
    "        'Lower middle income',\n",
    "        'Low & middle income',\n",
    "        'Late-demographic dividend',\n",
    "        'Middle East & North Africa',\n",
    "        'Middle income',\n",
    "        'Middle East & North Africa (excluding high income)',\n",
    "        'North America',\n",
    "        'OECD members',\n",
    "        'Other small states',\n",
    "        'Pre-demographic dividend',\n",
    "        'West Bank and Gaza',\n",
    "        'Pacific island small states',\n",
    "        'Post-demographic dividend',\n",
    "        'South Asia',\n",
    "        'Sub-Saharan Africa (excluding high income)',\n",
    "        'Sub-Saharan Africa',\n",
    "        'Small states',\n",
    "        'East Asia & Pacific (IDA & IBRD countries)',\n",
    "        'Europe & Central Asia (IDA & IBRD countries)',\n",
    "        'Latin America & the Caribbean (IDA & IBRD countries)',\n",
    "        'Middle East & North Africa (IDA & IBRD countries)',\n",
    "        'South Asia (IDA & IBRD)',\n",
    "        'Sub-Saharan Africa (IDA & IBRD countries)',\n",
    "        'Upper middle income']\n",
    "    cdf=df.copy()\n",
    "    cdf=cdf.drop(col_drop, axis=1)\n",
    "    bad_countries=cdf[cdf[\"Country Name\"].isin(count_drop)==True].index\n",
    "    cdf=cdf.drop(bad_countries,axis=0)\n",
    "    cdf[\"Country Name\"] = cdf[\"Country Name\"].apply(lambda x: \" \".join(x.split(\",\")[::-1]) if x in [\"Congo, Dem. Rep.\",\"Congo, Rep.\",\"Korea, Rep.\",\"Korea, Dem. People’s Rep.\"] else x)\n",
    "    cdf[\"Country Name\"] = cdf[\"Country Name\"].apply(lambda x: x.split(\",\")[0])\n",
    "    cdf=cdf.fillna(0)\n",
    "    cdf[\"Country Name\"] = cdf[\"Country Name\"].apply(lambda x: x.upper().strip())\n",
    "    return cdf"
   ]
  },
  {
   "cell_type": "code",
   "execution_count": 24,
   "metadata": {},
   "outputs": [],
   "source": [
    "#FILTER AND FIX DATA:\n",
    "def filter_data(df,country=\"WORLD\",desde=2006,hasta=2016):\n",
    "    lista_años_st=list(map(str,list(range(desde,hasta+1))))\n",
    "    lista_total=[\"Country Name\",\"Country Code\"]+lista_años_st\n",
    "    fdf=df[df[\"Country Name\"]==(country.upper())][lista_total]\n",
    "    return fdf\n",
    "\n",
    "def fix_data(df):\n",
    "    melt=pd.melt(df, id_vars=[\"Country Name\",\"Country Code\"], value_vars=df.columns[2:],var_name=\"Year\",value_name=\"Population\")\n",
    "    melt=melt.sort_values(by=[\"Country Name\", \"Year\"])\n",
    "    return melt\n",
    "\n",
    "    "
   ]
  },
  {
   "cell_type": "code",
   "execution_count": 29,
   "metadata": {},
   "outputs": [],
   "source": [
    "#ANALYSE DATA:\n",
    "\n",
    "def get_growth(df):\n",
    "    gdf=df.copy()\n",
    "    lista=[0]\n",
    "    for i in range(1,len(df[\"Population\"])):\n",
    "        lista.append(((df[\"Population\"][i]/df[\"Population\"][i-1])-1)*100)\n",
    "    gdf[\"Growth rate %\"]=np.array(lista)\n",
    "    return gdf[1:]\n",
    "\n",
    "def plot_population(df):\n",
    "    plt.figure(figsize=(18,6))\n",
    "    plt.plot(df.groupby([\"Year\"]).sum()[\"Population\"]/1000000, c='blue')\n",
    "    plt.legend(loc=1)\n",
    "    plt.title('Population by year')\n",
    "    plt.xlabel('Year')\n",
    "    plt.ylabel('Population (Millions)')\n",
    "    plt.savefig('./Output/population.png')\n",
    "    plt.show()\n",
    "\n",
    "def plot_growth(df):\n",
    "    plt.figure(figsize=(18,6))\n",
    "    plt.plot(df.groupby([\"Year\"]).sum()[\"Growth rate %\"], c='blue')\n",
    "    plt.legend(loc=1)\n",
    "    plt.title('Population growth rate by year')\n",
    "    plt.xlabel('Year')\n",
    "    plt.ylabel('Growth rate %')\n",
    "    plt.savefig('./Output/growth.png')\n",
    "    plt.show()\n",
    "    \n"
   ]
  },
  {
   "cell_type": "code",
   "execution_count": 86,
   "metadata": {},
   "outputs": [],
   "source": [
    "#API ENRICH:\n",
    "BASE_URL=\"https://restcountries.eu/rest/v2/alpha/\"\n",
    "def get_country(df):\n",
    "    code=df[\"Country Code\"].unique()[0]\n",
    "    return str(code)\n",
    "\n",
    "def get_capital(url,code):\n",
    "    query_params={\"fields\":\"capital\"}\n",
    "    res = req.get(\"{}{}\".format(url,code),params=query_params)\n",
    "    content=res.json()\n",
    "    capital=content[\"capital\"]\n",
    "    return capital\n",
    "\n",
    "def get_population(url,code):\n",
    "    query_params={\"fields\":\"population\"}\n",
    "    res = req.get(\"{}{}\".format(url,code),params=query_params)\n",
    "    content=res.json()\n",
    "    pop=str(content[\"population\"])\n",
    "    return pop\n",
    "\n",
    "def get_alt_names(url,code):\n",
    "    query_params={\"fields\":\"altSpellings\"}\n",
    "    res = req.get(\"{}{}\".format(url,code),params=query_params)\n",
    "    content=res.json()\n",
    "    names=\", \".join(content[\"altSpellings\"])\n",
    "    return names\n",
    "\n",
    "def get_lang(url,code):\n",
    "    query_params={\"fields\":\"languages\"}\n",
    "    res = req.get(\"{}{}\".format(url,code),params=query_params)\n",
    "    content=res.json()\n",
    "    lang_list=[l[\"name\"] for l in content[\"languages\"]]\n",
    "    languages=\", \".join(lang_list)\n",
    "    return languages\n",
    "\n",
    "def get_flag(url,code):\n",
    "    "
   ]
  },
  {
   "cell_type": "code",
   "execution_count": 87,
   "metadata": {},
   "outputs": [
    {
     "data": {
      "text/plain": [
       "'Spanish'"
      ]
     },
     "execution_count": 87,
     "metadata": {},
     "output_type": "execute_result"
    }
   ],
   "source": [
    "cod=get_country(fix)\n",
    "lan=get_lang(BASE_URL,cod)\n",
    "lan"
   ]
  },
  {
   "cell_type": "code",
   "execution_count": 33,
   "metadata": {},
   "outputs": [
    {
     "name": "stderr",
     "output_type": "stream",
     "text": [
      "No handles with labels found to put in legend.\n"
     ]
    },
    {
     "data": {
      "image/png": "[encoded data removed]",
      "text/plain": [
       "<Figure size 1296x432 with 1 Axes>"
      ]
     },
     "metadata": {},
     "output_type": "display_data"
    },
    {
     "name": "stderr",
     "output_type": "stream",
     "text": [
      "No handles with labels found to put in legend.\n"
     ]
    },
    {
     "data": {
      "image/png": "[encoded data removed]",
      "text/plain": [
       "<Figure size 1296x432 with 1 Axes>"
      ]
     },
     "metadata": {},
     "output_type": "display_data"
    },
    {
     "data": {
      "text/html": [
       "<div>\n",
       "<style scoped>\n",
       "    .dataframe tbody tr th:only-of-type {\n",
       "        vertical-align: middle;\n",
       "    }\n",
       "\n",
       "    .dataframe tbody tr th {\n",
       "        vertical-align: top;\n",
       "    }\n",
       "\n",
       "    .dataframe thead th {\n",
       "        text-align: right;\n",
       "    }\n",
       "</style>\n",
       "<table border=\"1\" class=\"dataframe\">\n",
       "  <thead>\n",
       "    <tr style=\"text-align: right;\">\n",
       "      <th></th>\n",
       "      <th>Country Name</th>\n",
       "      <th>Country Code</th>\n",
       "      <th>Year</th>\n",
       "      <th>Population</th>\n",
       "      <th>Growth rate %</th>\n",
       "    </tr>\n",
       "  </thead>\n",
       "  <tbody>\n",
       "    <tr>\n",
       "      <th>1</th>\n",
       "      <td>SPAIN</td>\n",
       "      <td>ESP</td>\n",
       "      <td>2011</td>\n",
       "      <td>46742697.0</td>\n",
       "      <td>0.355970</td>\n",
       "    </tr>\n",
       "    <tr>\n",
       "      <th>2</th>\n",
       "      <td>SPAIN</td>\n",
       "      <td>ESP</td>\n",
       "      <td>2012</td>\n",
       "      <td>46773055.0</td>\n",
       "      <td>0.064947</td>\n",
       "    </tr>\n",
       "    <tr>\n",
       "      <th>3</th>\n",
       "      <td>SPAIN</td>\n",
       "      <td>ESP</td>\n",
       "      <td>2013</td>\n",
       "      <td>46620045.0</td>\n",
       "      <td>-0.327133</td>\n",
       "    </tr>\n",
       "    <tr>\n",
       "      <th>4</th>\n",
       "      <td>SPAIN</td>\n",
       "      <td>ESP</td>\n",
       "      <td>2014</td>\n",
       "      <td>46480882.0</td>\n",
       "      <td>-0.298505</td>\n",
       "    </tr>\n",
       "    <tr>\n",
       "      <th>5</th>\n",
       "      <td>SPAIN</td>\n",
       "      <td>ESP</td>\n",
       "      <td>2015</td>\n",
       "      <td>46444832.0</td>\n",
       "      <td>-0.077559</td>\n",
       "    </tr>\n",
       "  </tbody>\n",
       "</table>\n",
       "</div>"
      ],
      "text/plain": [
       "  Country Name Country Code  Year  Population  Growth rate %\n",
       "1        SPAIN          ESP  2011  46742697.0       0.355970\n",
       "2        SPAIN          ESP  2012  46773055.0       0.064947\n",
       "3        SPAIN          ESP  2013  46620045.0      -0.327133\n",
       "4        SPAIN          ESP  2014  46480882.0      -0.298505\n",
       "5        SPAIN          ESP  2015  46444832.0      -0.077559"
      ]
     },
     "execution_count": 33,
     "metadata": {},
     "output_type": "execute_result"
    }
   ],
   "source": [
    "data=get_data(PATH)\n",
    "clean=clean_data(data)\n",
    "filt=filter_data(clean,\"spain\",2010,2015)\n",
    "fix=fix_data(filt)\n",
    "grate=get_growth(fix)\n",
    "plot_population(fix)\n",
    "plot_growth(grate)\n",
    "grate"
   ]
  },
  {
   "cell_type": "code",
   "execution_count": null,
   "metadata": {},
   "outputs": [],
   "source": []
  },
  {
   "cell_type": "code",
   "execution_count": null,
   "metadata": {},
   "outputs": [],
   "source": []
  }
 ],
 "metadata": {
  "kernelspec": {
   "display_name": "Python 3",
   "language": "python",
   "name": "python3"
  },
  "language_info": {
   "codemirror_mode": {
    "name": "ipython",
    "version": 3
   },
   "file_extension": ".py",
   "mimetype": "text/x-python",
   "name": "python",
   "nbconvert_exporter": "python",
   "pygments_lexer": "ipython3",
   "version": "3.6.8"
  }
 },
 "nbformat": 4,
 "nbformat_minor": 2
}
