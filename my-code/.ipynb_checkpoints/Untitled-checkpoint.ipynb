{
 "cells": [
  {
   "cell_type": "code",
   "execution_count": 12,
   "metadata": {},
   "outputs": [],
   "source": [
    "import pandas as pd\n",
    "import numpy as np\n"
   ]
  },
  {
   "cell_type": "code",
   "execution_count": 46,
   "metadata": {},
   "outputs": [],
   "source": [
    "#GET DATA:\n",
    "PATH=\"./Input/country_population.csv\"\n",
    "def get_data(path):\n",
    "    df=pd.read_csv(path,\",\")\n",
    "    return df"
   ]
  },
  {
   "cell_type": "code",
   "execution_count": 69,
   "metadata": {},
   "outputs": [],
   "source": [
    "#FILTER DATA:\n",
    "def filter_data(df,country=\"World\",desde=2006,hasta=2016):\n",
    "    lista_años_st=list(map(str,list(range(desde,hasta+1))))\n",
    "    lista_total=[\"Country Name\",\"Country Code\"]+lista_años_st\n",
    "    fdf=df[df[\"Country Name\"].str.contains(country.title())][lista_total]\n",
    "    return fdf\n"
   ]
  },
  {
   "cell_type": "code",
   "execution_count": 78,
   "metadata": {},
   "outputs": [
    {
     "data": {
      "text/html": [
       "<div>\n",
       "<style scoped>\n",
       "    .dataframe tbody tr th:only-of-type {\n",
       "        vertical-align: middle;\n",
       "    }\n",
       "\n",
       "    .dataframe tbody tr th {\n",
       "        vertical-align: top;\n",
       "    }\n",
       "\n",
       "    .dataframe thead th {\n",
       "        text-align: right;\n",
       "    }\n",
       "</style>\n",
       "<table border=\"1\" class=\"dataframe\">\n",
       "  <thead>\n",
       "    <tr style=\"text-align: right;\">\n",
       "      <th></th>\n",
       "      <th>Country Name</th>\n",
       "      <th>Country Code</th>\n",
       "      <th>2006</th>\n",
       "      <th>2007</th>\n",
       "      <th>2008</th>\n",
       "      <th>2009</th>\n",
       "      <th>2010</th>\n",
       "      <th>2011</th>\n",
       "      <th>2012</th>\n",
       "      <th>2013</th>\n",
       "      <th>2014</th>\n",
       "      <th>2015</th>\n",
       "      <th>2016</th>\n",
       "    </tr>\n",
       "  </thead>\n",
       "  <tbody>\n",
       "    <tr>\n",
       "      <th>65</th>\n",
       "      <td>Egypt, Arab Rep.</td>\n",
       "      <td>EGY</td>\n",
       "      <td>78159048.0</td>\n",
       "      <td>79537253.0</td>\n",
       "      <td>80953881.0</td>\n",
       "      <td>82465022.0</td>\n",
       "      <td>84107606.0</td>\n",
       "      <td>85897561.0</td>\n",
       "      <td>87813257.0</td>\n",
       "      <td>89807433.0</td>\n",
       "      <td>91812566.0</td>\n",
       "      <td>93778172.0</td>\n",
       "      <td>95688681.0</td>\n",
       "    </tr>\n",
       "  </tbody>\n",
       "</table>\n",
       "</div>"
      ],
      "text/plain": [
       "        Country Name Country Code        2006        2007        2008  \\\n",
       "65  Egypt, Arab Rep.          EGY  78159048.0  79537253.0  80953881.0   \n",
       "\n",
       "          2009        2010        2011        2012        2013        2014  \\\n",
       "65  82465022.0  84107606.0  85897561.0  87813257.0  89807433.0  91812566.0   \n",
       "\n",
       "          2015        2016  \n",
       "65  93778172.0  95688681.0  "
      ]
     },
     "execution_count": 78,
     "metadata": {},
     "output_type": "execute_result"
    }
   ],
   "source": [
    "df=get_data(PATH)\n",
    "fdf=filter_data(df,\"egypt\")\n",
    "fdf"
   ]
  },
  {
   "cell_type": "code",
   "execution_count": null,
   "metadata": {},
   "outputs": [],
   "source": [
    "#CLEAN DATA:\n",
    "def "
   ]
  }
 ],
 "metadata": {
  "kernelspec": {
   "display_name": "Python 3",
   "language": "python",
   "name": "python3"
  },
  "language_info": {
   "codemirror_mode": {
    "name": "ipython",
    "version": 3
   },
   "file_extension": ".py",
   "mimetype": "text/x-python",
   "name": "python",
   "nbconvert_exporter": "python",
   "pygments_lexer": "ipython3",
   "version": "3.6.8"
  }
 },
 "nbformat": 4,
 "nbformat_minor": 2
}
